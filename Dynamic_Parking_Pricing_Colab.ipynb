{
 "cells": [
  {
   "cell_type": "markdown",
   "metadata": {},
   "source": [
    "# Dynamic Pricing for Urban Parking Lots (Google Colab Version)\n",
    "### Capstone Project – Summer Analytics 2025\n",
    "**Consulting & Analytics Club × Pathway**\n",
    "\n",
    "This notebook first trains and validates pricing models on the static `dataset.csv` and then implements the same logic in a real-time simulation using Pathway."
   ]
  },
  {
   "cell_type": "markdown",
   "metadata": {},
   "source": [
    "## 1. Setup & Imports"
   ]
  },
  {
   "cell_type": "code",
   "metadata": {},
   "source": [
    "# Install required packages\n",
    "!pip install pathway bokeh pandas numpy panel --quiet"
   ],
   "execution_count": null,
   "outputs": []
  },
  {
   "cell_type": "code",
   "metadata": {},
   "source": [
    "import numpy as np\n",
    "import pandas as pd\n",
    "import pathway as pw\n",
    "import bokeh.plotting\n",
    "import panel as pn\n",
    "import datetime\n",
    "from google.colab import files\n",
    "from bokeh.palettes import Category10\n",
    "\n",
    "pn.extension('bokeh')"
   ],
   "execution_count": null,
   "outputs": []
  },
  {
   "cell_type": "markdown",
   "metadata": {},
   "source": [
    "## 2. Data Loading and Preprocessing\n",
    "\n",
    "First, we upload and prepare the historical data. This involves cleaning, renaming columns, and engineering features that will be used for both model training and the real-time simulation."
   ]
  },
  {
   "cell_type": "code",
   "metadata": {},
   "source": [
    "uploaded = files.upload()\n",
    "df = pd.read_csv(list(uploaded.keys())[0])\n",
    "\n",
    "# Rename columns for clarity\n",
    "df = df.rename(columns={\n",
    "    'SystemCodeNumber': 'lot_id', 'Capacity': 'capacity', 'Occupancy': 'occupancy',\n",
    "    'QueueLength': 'queue_length', 'IsSpecialDay': 'is_special_day', 'VehicleType': 'vehicle_type',\n",
    "    'TrafficConditionNearby': 'traffic_condition', 'LastUpdatedDate': 'date', 'LastUpdatedTime': 'time'\n",
    "})\n",
    "\n",
    "# Preprocess and engineer features\n",
    "df['is_special_day'] = df['is_special_day'].fillna(0).astype(int)\n",
    "df['queue_length'] = df['queue_length'].fillna(0).astype(int)\n",
    "df['vehicle_type'] = df['vehicle_type'].fillna('car')\n",
    "df['traffic_condition'] = df['traffic_condition'].fillna('medium')\n",
    "df['timestamp'] = pd.to_datetime(df['date'] + ' ' + df['time'], errors='coerce')\n",
    "traffic_map = {'low': 1, 'medium': 2, 'high': 3}\n",
    "df['traffic_level'] = df['traffic_condition'].map(traffic_map).fillna(2)\n",
    "vehicle_type_map = {'car': 1.0, 'bike': 0.7, 'truck': 1.3}\n",
    "df['vehicle_type_weight'] = df['vehicle_type'].map(vehicle_type_map).fillna(1.0)\n",
    "df['occupancy_rate'] = df['occupancy'] / df['capacity']\n",
    "\n",
    "# Create a clean DataFrame for training and simulation\n",
    "final_cols = ['lot_id', 'capacity', 'occupancy', 'queue_length', 'is_special_day', 'traffic_level', 'vehicle_type_weight', 'occupancy_rate', 'timestamp']\n",
    "df_clean = df[final_cols].dropna().sort_values(['lot_id', 'timestamp']).reset_index(drop=True)\n",
    "\n",
    "print(\"Cleaned DataFrame ready for modeling:\")\n",
    "print(df_clean.head())"
   ],
   "execution_count": null,
   "outputs": []
  },
  {
   "cell_type": "markdown",
   "metadata": {},
   "source": [
    "## 3. Model Training & Static Analysis\n",
    "\n",
    "Here, we define our pricing models and \"train\" them on the historical data. For these rule-based models, training involves calculating necessary parameters (like min/max demand) and observing model behavior on the static dataset."
   ]
  },
  {
   "cell_type": "code",
   "metadata": {},
   "source": [
    "def demand_function(occ_rate, q_len, traffic, special_day, vehicle_weight, alpha=1.5, beta=0.5, gamma=0.3, delta=1.0, epsilon=0.5):\n",
    "    return (alpha * occ_rate + beta * q_len - gamma * traffic + delta * special_day + epsilon * vehicle_weight)\n",
    "\n",
    "def demand_based_price(base_price, demand, demand_min, demand_max, lambd=0.7):\n",
    "    norm_demand = (demand - demand_min) / (demand_max - demand_min + 1e-6)\n",
    "    price = base_price * (1 + lambd * norm_demand)\n",
    "    return np.clip(price, 0.5 * base_price, 2.0 * base_price)\n",
    "\n",
    "def competitive_price(demand_price, occupancy_rate, base_price=10.0):\n",
    "    price = demand_price\n",
    "    competitor_prices = np.random.uniform(8, 15, 3)\n",
    "    min_comp = min(competitor_prices)\n",
    "    if occupancy_rate >= 0.95 and price > min_comp:\n",
    "        price = min_comp - 0.5\n",
    "    return np.clip(price, 0.5 * base_price, 2.0 * base_price)\n",
    "\n",
    "# Apply models to the static DataFrame to analyze behavior\n",
    "df_analysis = df_clean.copy()\n",
    "df_analysis['demand'] = df_analysis.apply(lambda row: demand_function(row['occupancy_rate'], row['queue_length'], row['traffic_level'], row['is_special_day'], row['vehicle_type_weight']), axis=1)\n",
    "\n",
    "# Calculate normalization stats from the full historical data\n",
    "demand_stats_static = df_analysis.groupby('lot_id')['demand'].agg(['min', 'max']).rename(columns={'min': 'demand_min', 'max': 'demand_max'})\n",
    "df_analysis = df_analysis.join(demand_stats_static, on='lot_id')\n",
    "\n",
    "df_analysis['demand_price'] = df_analysis.apply(lambda row: demand_based_price(10.0, row['demand'], row['demand_min'], row['demand_max']), axis=1)\n",
    "df_analysis['competitive_price'] = df_analysis.apply(lambda row: competitive_price(row['demand_price'], row['occupancy_rate']), axis=1)\n",
    "\n",
    "print(\"Static analysis results:\")\n",
    "print(df_analysis[['lot_id', 'timestamp', 'demand_price', 'competitive_price']].head())"
   ],
   "execution_count": null,
   "outputs": []
  },
  {
   "cell_type": "markdown",
   "metadata": {},
   "source": [
    "## 4. Real-Time Implementation with Pathway\n",
    "\n",
    "Now, we deploy the same pricing logic to a real-time stream using Pathway. The functions defined above are reused."
   ]
  },
  {
   "cell_type": "code",
   "metadata": {},
   "source": [
    "class ParkingData(pw.Schema):\n",
    "    lot_id: str\n",
    "    capacity: int\n",
    "    occupancy: int\n",
    "    queue_length: int\n",
    "    is_special_day: int\n",
    "    traffic_level: float\n",
    "    vehicle_type_weight: float\n",
    "    occupancy_rate: float\n",
    "    timestamp: datetime.datetime\n",
    "\n",
    "# Stream the preprocessed data\n",
    "data_stream = pw.demo.replay_csv(df_clean, schema=ParkingData, input_rate=1000, time_dilation=100)\n",
    "\n",
    "# Apply demand function to the stream\n",
    "data_stream = data_stream.with_columns(\n",
    "    demand=demand_function(\n",
    "        pw.this.occupancy_rate, pw.this.queue_length, pw.this.traffic_level, \n",
    "        pw.this.is_special_day, pw.this.vehicle_type_weight\n",
    "    )\n",
    ")\n",
    "\n",
    "# Calculate streaming demand statistics\n",
    "demand_stats_stream = data_stream.groupby(pw.this.lot_id).reduce(\n",
    "    lot_id=pw.this.lot_id,\n",
    "    demand_min=pw.reducers.min(pw.this.demand),\n",
    "    demand_max=pw.reducers.max(pw.this.demand)\n",
    ")\n",
    "\n",
    "# Join stats and calculate prices on the stream\n",
    "data_with_demand = data_stream.join(demand_stats_stream, pw.left.lot_id == pw.right.lot_id)\n",
    "data_with_demand = data_with_demand.with_columns(\n",
    "    demand_price=demand_based_price(10.0, pw.this.demand, pw.this.demand_min, pw.this.demand_max)\n",
    ")\n",
    "final_prices = data_with_demand.with_columns(\n",
    "    competitive_price=competitive_price(pw.this.demand_price, pw.this.occupancy_rate)\n",
    ")\n",
    "\n",
    "results_table = final_prices.select(\n",
    "    pw.this.lot_id, pw.this.timestamp, pw.this.demand_price, pw.this.competitive_price\n",
    ")"
   ],
   "execution_count": null,
   "outputs": []
  },
  {
   "cell_type": "markdown",
   "metadata": {},
   "source": [
    "## 5. Live Dashboard Visualization\n",
    "\n",
    "This dashboard visualizes the real-time prices calculated by the Pathway simulation."
   ]
  },
  {
   "cell_type": "code",
   "metadata": {},
   "source": [
    "def create_price_plot(src, lot_id):\n",
    "    fig = bokeh.plotting.figure(\n",
    "        height=300, width=450,\n",
    "        title=f\"Lot {lot_id} Pricing\",\n",
    "        x_axis_type=\"datetime\",\n",
    "        y_axis_label=\"Price ($)\"\n",
    "    )\n",
    "    fig.line('timestamp', 'demand_price', source=src, legend_label='Demand', color=Category10[3][0], line_width=2)\n",
    "    fig.line('timestamp', 'competitive_price', source=src, legend_label='Competitive', color=Category10[3][1], line_width=2)\n",
    "    fig.legend.location = 'top_left'\n",
    "    return fig\n",
    "\n",
    "lot_ids = df_clean['lot_id'].unique()\n",
    "grid = pn.GridSpec(sizing_mode='stretch_width')\n",
    "for i, lot_id in enumerate(lot_ids):\n",
    "    row, col = divmod(i, 3)\n",
    "    lot_data = results_table.filter(pw.this.lot_id == lot_id)\n",
    "    plot = lot_data.plot(lambda src: create_price_plot(src, lot_id), sorting_col='timestamp')\n",
    "    grid[row, col] = plot\n",
    "\n",
    "dashboard = pn.Column(\"## Real-Time Parking Price Dashboard\", grid)\n",
    "dashboard"
   ],
   "execution_count": null,
   "outputs": []
  },
  {
   "cell_type": "markdown",
   "metadata": {},
   "source": [
    "## 6. Run Pathway Simulation\n",
    "\n",
    "Run the following cell to start the live simulation. The dashboard above will update in real-time."
   ]
  },
  {
   "cell_type": "code",
   "metadata": {},
   "source": [
    "pw.run()"
   ],
   "execution_count": null,
   "outputs": []
  }
 ],
 "metadata": {
  "kernelspec": {
   "display_name": "Python 3",
   "language": "python",
   "name": "python3"
  },
  "language_info": {
   "name": "python",
   "version": "3.10"
  }
 },
 "nbformat": 4,
 "nbformat_minor": 5
}
