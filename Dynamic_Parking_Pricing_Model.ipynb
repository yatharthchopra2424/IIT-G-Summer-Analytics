{
 "cells": [
  {
   "cell_type": "markdown",
   "metadata": {},
   "source": [
    "# Dynamic Pricing for Urban Parking Spaces\n",
    "\n",
    "## Background and Motivation\n",
    "Urban parking spaces are limited and highly demanded. Static pricing leads to inefficiencies. This notebook implements dynamic pricing models for 14 parking spaces using real-time data, economic theory, and ML models built from scratch using only numpy and pandas.\n",
    "\n",
    "## Data Description\n",
    "- 14 parking spaces, 73 days, 18 time points per day (8:00 AM to 4:30 PM)\n",
    "- Features: Latitude, Longitude, Capacity, Occupancy, Queue length, Vehicle type, Traffic congestion, Special day indicator\n",
    "\n",
    "## Project Objective\n",
    "- Build dynamic pricing models that update prices in real-time based on historical and real-time features\n",
    "- Start from a base price of $10\n",
    "- Ensure smooth, explainable, and bounded price variations\n",
    "- Optionally suggest rerouting if lots are overburdened\n",
    "\n",
    "## Notebook Structure\n",
    "1. Data Loading & Exploration\n",
    "2. Model 1: Baseline Linear Model\n",
    "3. Model 2: Demand-Based Price Function\n",
    "4. Model 3 (Optional): Competitive Pricing Model\n",
    "5. Conclusions"
   ]
  },
  {
   "cell_type": "markdown",
   "metadata": {},
   "source": [
    "## 1. Data Loading & Exploration"
   ]
  },
  {
   "cell_type": "code",
   "execution_count": 7,
   "metadata": {},
   "outputs": [
    {
     "data": {
      "application/vnd.microsoft.datawrangler.viewer.v0+json": {
       "columns": [
        {
         "name": "index",
         "rawType": "int64",
         "type": "integer"
        },
        {
         "name": "ID",
         "rawType": "int64",
         "type": "integer"
        },
        {
         "name": "SystemCodeNumber",
         "rawType": "object",
         "type": "string"
        },
        {
         "name": "Capacity",
         "rawType": "int64",
         "type": "integer"
        },
        {
         "name": "Latitude",
         "rawType": "float64",
         "type": "float"
        },
        {
         "name": "Longitude",
         "rawType": "float64",
         "type": "float"
        },
        {
         "name": "Occupancy",
         "rawType": "int64",
         "type": "integer"
        },
        {
         "name": "VehicleType",
         "rawType": "object",
         "type": "string"
        },
        {
         "name": "TrafficConditionNearby",
         "rawType": "object",
         "type": "string"
        },
        {
         "name": "QueueLength",
         "rawType": "int64",
         "type": "integer"
        },
        {
         "name": "IsSpecialDay",
         "rawType": "int64",
         "type": "integer"
        },
        {
         "name": "LastUpdatedDate",
         "rawType": "object",
         "type": "string"
        },
        {
         "name": "LastUpdatedTime",
         "rawType": "object",
         "type": "string"
        }
       ],
       "ref": "2c8d9dbe-20cb-44eb-ae7c-a9040a61ae6b",
       "rows": [
        [
         "0",
         "0",
         "BHMBCCMKT01",
         "577",
         "26.14453614",
         "91.73617216",
         "61",
         "car",
         "low",
         "1",
         "0",
         "04-10-2016",
         "07:59:00"
        ],
        [
         "1",
         "1",
         "BHMBCCMKT01",
         "577",
         "26.14453614",
         "91.73617216",
         "64",
         "car",
         "low",
         "1",
         "0",
         "04-10-2016",
         "08:25:00"
        ],
        [
         "2",
         "2",
         "BHMBCCMKT01",
         "577",
         "26.14453614",
         "91.73617216",
         "80",
         "car",
         "low",
         "2",
         "0",
         "04-10-2016",
         "08:59:00"
        ],
        [
         "3",
         "3",
         "BHMBCCMKT01",
         "577",
         "26.14453614",
         "91.73617216",
         "107",
         "car",
         "low",
         "2",
         "0",
         "04-10-2016",
         "09:32:00"
        ],
        [
         "4",
         "4",
         "BHMBCCMKT01",
         "577",
         "26.14453614",
         "91.73617216",
         "150",
         "bike",
         "low",
         "2",
         "0",
         "04-10-2016",
         "09:59:00"
        ]
       ],
       "shape": {
        "columns": 12,
        "rows": 5
       }
      },
      "text/html": [
       "<div>\n",
       "<style scoped>\n",
       "    .dataframe tbody tr th:only-of-type {\n",
       "        vertical-align: middle;\n",
       "    }\n",
       "\n",
       "    .dataframe tbody tr th {\n",
       "        vertical-align: top;\n",
       "    }\n",
       "\n",
       "    .dataframe thead th {\n",
       "        text-align: right;\n",
       "    }\n",
       "</style>\n",
       "<table border=\"1\" class=\"dataframe\">\n",
       "  <thead>\n",
       "    <tr style=\"text-align: right;\">\n",
       "      <th></th>\n",
       "      <th>ID</th>\n",
       "      <th>SystemCodeNumber</th>\n",
       "      <th>Capacity</th>\n",
       "      <th>Latitude</th>\n",
       "      <th>Longitude</th>\n",
       "      <th>Occupancy</th>\n",
       "      <th>VehicleType</th>\n",
       "      <th>TrafficConditionNearby</th>\n",
       "      <th>QueueLength</th>\n",
       "      <th>IsSpecialDay</th>\n",
       "      <th>LastUpdatedDate</th>\n",
       "      <th>LastUpdatedTime</th>\n",
       "    </tr>\n",
       "  </thead>\n",
       "  <tbody>\n",
       "    <tr>\n",
       "      <th>0</th>\n",
       "      <td>0</td>\n",
       "      <td>BHMBCCMKT01</td>\n",
       "      <td>577</td>\n",
       "      <td>26.144536</td>\n",
       "      <td>91.736172</td>\n",
       "      <td>61</td>\n",
       "      <td>car</td>\n",
       "      <td>low</td>\n",
       "      <td>1</td>\n",
       "      <td>0</td>\n",
       "      <td>04-10-2016</td>\n",
       "      <td>07:59:00</td>\n",
       "    </tr>\n",
       "    <tr>\n",
       "      <th>1</th>\n",
       "      <td>1</td>\n",
       "      <td>BHMBCCMKT01</td>\n",
       "      <td>577</td>\n",
       "      <td>26.144536</td>\n",
       "      <td>91.736172</td>\n",
       "      <td>64</td>\n",
       "      <td>car</td>\n",
       "      <td>low</td>\n",
       "      <td>1</td>\n",
       "      <td>0</td>\n",
       "      <td>04-10-2016</td>\n",
       "      <td>08:25:00</td>\n",
       "    </tr>\n",
       "    <tr>\n",
       "      <th>2</th>\n",
       "      <td>2</td>\n",
       "      <td>BHMBCCMKT01</td>\n",
       "      <td>577</td>\n",
       "      <td>26.144536</td>\n",
       "      <td>91.736172</td>\n",
       "      <td>80</td>\n",
       "      <td>car</td>\n",
       "      <td>low</td>\n",
       "      <td>2</td>\n",
       "      <td>0</td>\n",
       "      <td>04-10-2016</td>\n",
       "      <td>08:59:00</td>\n",
       "    </tr>\n",
       "    <tr>\n",
       "      <th>3</th>\n",
       "      <td>3</td>\n",
       "      <td>BHMBCCMKT01</td>\n",
       "      <td>577</td>\n",
       "      <td>26.144536</td>\n",
       "      <td>91.736172</td>\n",
       "      <td>107</td>\n",
       "      <td>car</td>\n",
       "      <td>low</td>\n",
       "      <td>2</td>\n",
       "      <td>0</td>\n",
       "      <td>04-10-2016</td>\n",
       "      <td>09:32:00</td>\n",
       "    </tr>\n",
       "    <tr>\n",
       "      <th>4</th>\n",
       "      <td>4</td>\n",
       "      <td>BHMBCCMKT01</td>\n",
       "      <td>577</td>\n",
       "      <td>26.144536</td>\n",
       "      <td>91.736172</td>\n",
       "      <td>150</td>\n",
       "      <td>bike</td>\n",
       "      <td>low</td>\n",
       "      <td>2</td>\n",
       "      <td>0</td>\n",
       "      <td>04-10-2016</td>\n",
       "      <td>09:59:00</td>\n",
       "    </tr>\n",
       "  </tbody>\n",
       "</table>\n",
       "</div>"
      ],
      "text/plain": [
       "   ID SystemCodeNumber  Capacity   Latitude  Longitude  Occupancy VehicleType  \\\n",
       "0   0      BHMBCCMKT01       577  26.144536  91.736172         61         car   \n",
       "1   1      BHMBCCMKT01       577  26.144536  91.736172         64         car   \n",
       "2   2      BHMBCCMKT01       577  26.144536  91.736172         80         car   \n",
       "3   3      BHMBCCMKT01       577  26.144536  91.736172        107         car   \n",
       "4   4      BHMBCCMKT01       577  26.144536  91.736172        150        bike   \n",
       "\n",
       "  TrafficConditionNearby  QueueLength  IsSpecialDay LastUpdatedDate  \\\n",
       "0                    low            1             0      04-10-2016   \n",
       "1                    low            1             0      04-10-2016   \n",
       "2                    low            2             0      04-10-2016   \n",
       "3                    low            2             0      04-10-2016   \n",
       "4                    low            2             0      04-10-2016   \n",
       "\n",
       "  LastUpdatedTime  \n",
       "0        07:59:00  \n",
       "1        08:25:00  \n",
       "2        08:59:00  \n",
       "3        09:32:00  \n",
       "4        09:59:00  "
      ]
     },
     "execution_count": 7,
     "metadata": {},
     "output_type": "execute_result"
    }
   ],
   "source": [
    "import pandas as pd\n",
    "import numpy as np\n",
    "\n",
    "# Load the dataset\n",
    "df = pd.read_csv('dataset.csv')\n",
    "df.head()"
   ]
  },
  {
   "cell_type": "code",
   "execution_count": 8,
   "metadata": {},
   "outputs": [
    {
     "name": "stdout",
     "output_type": "stream",
     "text": [
      "<class 'pandas.core.frame.DataFrame'>\n",
      "RangeIndex: 18368 entries, 0 to 18367\n",
      "Data columns (total 12 columns):\n",
      " #   Column                  Non-Null Count  Dtype  \n",
      "---  ------                  --------------  -----  \n",
      " 0   ID                      18368 non-null  int64  \n",
      " 1   SystemCodeNumber        18368 non-null  object \n",
      " 2   Capacity                18368 non-null  int64  \n",
      " 3   Latitude                18368 non-null  float64\n",
      " 4   Longitude               18368 non-null  float64\n",
      " 5   Occupancy               18368 non-null  int64  \n",
      " 6   VehicleType             18368 non-null  object \n",
      " 7   TrafficConditionNearby  18368 non-null  object \n",
      " 8   QueueLength             18368 non-null  int64  \n",
      " 9   IsSpecialDay            18368 non-null  int64  \n",
      " 10  LastUpdatedDate         18368 non-null  object \n",
      " 11  LastUpdatedTime         18368 non-null  object \n",
      "dtypes: float64(2), int64(5), object(5)\n",
      "memory usage: 1.7+ MB\n"
     ]
    },
    {
     "data": {
      "application/vnd.microsoft.datawrangler.viewer.v0+json": {
       "columns": [
        {
         "name": "index",
         "rawType": "object",
         "type": "string"
        },
        {
         "name": "0",
         "rawType": "int64",
         "type": "integer"
        }
       ],
       "ref": "9021088e-c6b4-4605-aa91-553544c7ce2b",
       "rows": [
        [
         "ID",
         "0"
        ],
        [
         "SystemCodeNumber",
         "0"
        ],
        [
         "Capacity",
         "0"
        ],
        [
         "Latitude",
         "0"
        ],
        [
         "Longitude",
         "0"
        ],
        [
         "Occupancy",
         "0"
        ],
        [
         "VehicleType",
         "0"
        ],
        [
         "TrafficConditionNearby",
         "0"
        ],
        [
         "QueueLength",
         "0"
        ],
        [
         "IsSpecialDay",
         "0"
        ],
        [
         "LastUpdatedDate",
         "0"
        ],
        [
         "LastUpdatedTime",
         "0"
        ]
       ],
       "shape": {
        "columns": 1,
        "rows": 12
       }
      },
      "text/plain": [
       "ID                        0\n",
       "SystemCodeNumber          0\n",
       "Capacity                  0\n",
       "Latitude                  0\n",
       "Longitude                 0\n",
       "Occupancy                 0\n",
       "VehicleType               0\n",
       "TrafficConditionNearby    0\n",
       "QueueLength               0\n",
       "IsSpecialDay              0\n",
       "LastUpdatedDate           0\n",
       "LastUpdatedTime           0\n",
       "dtype: int64"
      ]
     },
     "execution_count": 8,
     "metadata": {},
     "output_type": "execute_result"
    }
   ],
   "source": [
    "# Basic info and missing values\n",
    "df.info()\n",
    "df.isnull().sum()"
   ]
  },
  {
   "cell_type": "code",
   "execution_count": 9,
   "metadata": {},
   "outputs": [
    {
     "name": "stdout",
     "output_type": "stream",
     "text": [
      "Number of unique parking spaces: 14\n"
     ]
    },
    {
     "data": {
      "application/vnd.microsoft.datawrangler.viewer.v0+json": {
       "columns": [
        {
         "name": "index",
         "rawType": "int64",
         "type": "integer"
        },
        {
         "name": "Latitude",
         "rawType": "float64",
         "type": "float"
        },
        {
         "name": "Longitude",
         "rawType": "float64",
         "type": "float"
        }
       ],
       "ref": "a88f1ca0-3072-4cf4-94f6-badd4d7f5f88",
       "rows": [
        [
         "0",
         "26.14453614",
         "91.73617216"
        ],
        [
         "1",
         "26.14449459",
         "91.73620513"
        ],
        [
         "2",
         "26.14901995",
         "91.7395035"
        ],
        [
         "3",
         "20.0000347",
         "78.00000286"
        ],
        [
         "4",
         "26.14001386",
         "91.73099967"
        ]
       ],
       "shape": {
        "columns": 2,
        "rows": 5
       }
      },
      "text/html": [
       "<div>\n",
       "<style scoped>\n",
       "    .dataframe tbody tr th:only-of-type {\n",
       "        vertical-align: middle;\n",
       "    }\n",
       "\n",
       "    .dataframe tbody tr th {\n",
       "        vertical-align: top;\n",
       "    }\n",
       "\n",
       "    .dataframe thead th {\n",
       "        text-align: right;\n",
       "    }\n",
       "</style>\n",
       "<table border=\"1\" class=\"dataframe\">\n",
       "  <thead>\n",
       "    <tr style=\"text-align: right;\">\n",
       "      <th></th>\n",
       "      <th>Latitude</th>\n",
       "      <th>Longitude</th>\n",
       "    </tr>\n",
       "  </thead>\n",
       "  <tbody>\n",
       "    <tr>\n",
       "      <th>0</th>\n",
       "      <td>26.144536</td>\n",
       "      <td>91.736172</td>\n",
       "    </tr>\n",
       "    <tr>\n",
       "      <th>1</th>\n",
       "      <td>26.144495</td>\n",
       "      <td>91.736205</td>\n",
       "    </tr>\n",
       "    <tr>\n",
       "      <th>2</th>\n",
       "      <td>26.149020</td>\n",
       "      <td>91.739503</td>\n",
       "    </tr>\n",
       "    <tr>\n",
       "      <th>3</th>\n",
       "      <td>20.000035</td>\n",
       "      <td>78.000003</td>\n",
       "    </tr>\n",
       "    <tr>\n",
       "      <th>4</th>\n",
       "      <td>26.140014</td>\n",
       "      <td>91.731000</td>\n",
       "    </tr>\n",
       "  </tbody>\n",
       "</table>\n",
       "</div>"
      ],
      "text/plain": [
       "    Latitude  Longitude\n",
       "0  26.144536  91.736172\n",
       "1  26.144495  91.736205\n",
       "2  26.149020  91.739503\n",
       "3  20.000035  78.000003\n",
       "4  26.140014  91.731000"
      ]
     },
     "execution_count": 9,
     "metadata": {},
     "output_type": "execute_result"
    }
   ],
   "source": [
    "# Unique parking locations\n",
    "locations = df[['Latitude', 'Longitude']].drop_duplicates().reset_index(drop=True)\n",
    "print(f\"Number of unique parking spaces: {len(locations)}\")\n",
    "locations.head()"
   ]
  },
  {
   "cell_type": "markdown",
   "metadata": {},
   "source": [
    "## 2. Model 1: Baseline Linear Model\n",
    "Price increases linearly with occupancy. Formula:\n",
    "\n",
    "$$\\text{Price}_{t+1} = \\text{Price}_t + \\alpha \\cdot \\frac{\\text{Occupancy}}{\\text{Capacity}}$$\n",
    "\n",
    "- Start with base price $10\n",
    "- Choose $\\alpha$ (e.g., 2)\n",
    "- Price is capped between $5 and $20"
   ]
  },
  {
   "cell_type": "code",
   "execution_count": 10,
   "metadata": {},
   "outputs": [
    {
     "name": "stderr",
     "output_type": "stream",
     "text": [
      "C:\\Users\\yatha\\AppData\\Local\\Temp\\ipykernel_35744\\3955479705.py:10: FutureWarning: Setting an item of incompatible dtype is deprecated and will raise an error in a future version of pandas. Value '10.221837088388215' has dtype incompatible with int64, please explicitly cast to a compatible dtype first.\n",
      "  df.loc[idx, 'Price'] = price\n"
     ]
    },
    {
     "data": {
      "application/vnd.microsoft.datawrangler.viewer.v0+json": {
       "columns": [
        {
         "name": "index",
         "rawType": "int64",
         "type": "integer"
        },
        {
         "name": "Occupancy",
         "rawType": "int64",
         "type": "integer"
        },
        {
         "name": "Capacity",
         "rawType": "int64",
         "type": "integer"
        },
        {
         "name": "Price",
         "rawType": "float64",
         "type": "float"
        }
       ],
       "ref": "e9356c1e-83fc-481d-aa73-8eac8663162c",
       "rows": [
        [
         "0",
         "61",
         "577",
         "10.0"
        ],
        [
         "1",
         "64",
         "577",
         "10.221837088388215"
        ],
        [
         "2",
         "80",
         "577",
         "10.499133448873483"
        ],
        [
         "3",
         "107",
         "577",
         "10.87001733102253"
        ],
        [
         "4",
         "150",
         "577",
         "11.389948006932407"
        ],
        [
         "5",
         "177",
         "577",
         "12.003466204506063"
        ],
        [
         "6",
         "219",
         "577",
         "12.762564991334486"
        ],
        [
         "7",
         "247",
         "577",
         "13.618717504332754"
        ],
        [
         "8",
         "259",
         "577",
         "14.516464471403811"
        ],
        [
         "9",
         "266",
         "577",
         "15.438474870017329"
        ]
       ],
       "shape": {
        "columns": 3,
        "rows": 10
       }
      },
      "text/html": [
       "<div>\n",
       "<style scoped>\n",
       "    .dataframe tbody tr th:only-of-type {\n",
       "        vertical-align: middle;\n",
       "    }\n",
       "\n",
       "    .dataframe tbody tr th {\n",
       "        vertical-align: top;\n",
       "    }\n",
       "\n",
       "    .dataframe thead th {\n",
       "        text-align: right;\n",
       "    }\n",
       "</style>\n",
       "<table border=\"1\" class=\"dataframe\">\n",
       "  <thead>\n",
       "    <tr style=\"text-align: right;\">\n",
       "      <th></th>\n",
       "      <th>Occupancy</th>\n",
       "      <th>Capacity</th>\n",
       "      <th>Price</th>\n",
       "    </tr>\n",
       "  </thead>\n",
       "  <tbody>\n",
       "    <tr>\n",
       "      <th>0</th>\n",
       "      <td>61</td>\n",
       "      <td>577</td>\n",
       "      <td>10.000000</td>\n",
       "    </tr>\n",
       "    <tr>\n",
       "      <th>1</th>\n",
       "      <td>64</td>\n",
       "      <td>577</td>\n",
       "      <td>10.221837</td>\n",
       "    </tr>\n",
       "    <tr>\n",
       "      <th>2</th>\n",
       "      <td>80</td>\n",
       "      <td>577</td>\n",
       "      <td>10.499133</td>\n",
       "    </tr>\n",
       "    <tr>\n",
       "      <th>3</th>\n",
       "      <td>107</td>\n",
       "      <td>577</td>\n",
       "      <td>10.870017</td>\n",
       "    </tr>\n",
       "    <tr>\n",
       "      <th>4</th>\n",
       "      <td>150</td>\n",
       "      <td>577</td>\n",
       "      <td>11.389948</td>\n",
       "    </tr>\n",
       "    <tr>\n",
       "      <th>5</th>\n",
       "      <td>177</td>\n",
       "      <td>577</td>\n",
       "      <td>12.003466</td>\n",
       "    </tr>\n",
       "    <tr>\n",
       "      <th>6</th>\n",
       "      <td>219</td>\n",
       "      <td>577</td>\n",
       "      <td>12.762565</td>\n",
       "    </tr>\n",
       "    <tr>\n",
       "      <th>7</th>\n",
       "      <td>247</td>\n",
       "      <td>577</td>\n",
       "      <td>13.618718</td>\n",
       "    </tr>\n",
       "    <tr>\n",
       "      <th>8</th>\n",
       "      <td>259</td>\n",
       "      <td>577</td>\n",
       "      <td>14.516464</td>\n",
       "    </tr>\n",
       "    <tr>\n",
       "      <th>9</th>\n",
       "      <td>266</td>\n",
       "      <td>577</td>\n",
       "      <td>15.438475</td>\n",
       "    </tr>\n",
       "  </tbody>\n",
       "</table>\n",
       "</div>"
      ],
      "text/plain": [
       "   Occupancy  Capacity      Price\n",
       "0         61       577  10.000000\n",
       "1         64       577  10.221837\n",
       "2         80       577  10.499133\n",
       "3        107       577  10.870017\n",
       "4        150       577  11.389948\n",
       "5        177       577  12.003466\n",
       "6        219       577  12.762565\n",
       "7        247       577  13.618718\n",
       "8        259       577  14.516464\n",
       "9        266       577  15.438475"
      ]
     },
     "execution_count": 10,
     "metadata": {},
     "output_type": "execute_result"
    }
   ],
   "source": [
    "def baseline_linear_model(df, alpha=2, base_price=10, min_price=5, max_price=20):\n",
    "    df = df.copy()\n",
    "    df['Price'] = base_price\n",
    "    for idx in range(1, len(df)):\n",
    "        prev_price = df.loc[idx-1, 'Price']\n",
    "        occ = df.loc[idx, 'Occupancy']\n",
    "        cap = df.loc[idx, 'Capacity']\n",
    "        price = prev_price + alpha * (occ / cap)\n",
    "        price = np.clip(price, min_price, max_price)\n",
    "        df.loc[idx, 'Price'] = price\n",
    "    return df\n",
    "\n",
    "# Example: Apply to one parking lot\n",
    "lot_id = 0\n",
    "sample_lot = df[df['Latitude'] == locations.loc[lot_id, 'Latitude']]\n",
    "sample_lot = sample_lot.reset_index(drop=True)\n",
    "baseline_prices = baseline_linear_model(sample_lot)\n",
    "baseline_prices[['Occupancy', 'Capacity', 'Price']].head(10)"
   ]
  },
  {
   "cell_type": "markdown",
   "metadata": {},
   "source": [
    "## 3. Model 2: Demand-Based Price Function\n",
    "Demand is a function of occupancy, queue, traffic, special day, vehicle type.\n",
    "\n",
    "$$\\text{Demand} = \\alpha \\cdot \\frac{\\text{Occupancy}}{\\text{Capacity}} + \\beta \\cdot \\text{QueueLength} - \\gamma \\cdot \\text{Traffic} + \\delta \\cdot \\text{IsSpecialDay} + \\epsilon \\cdot \\text{VehicleTypeWeight}$$\n",
    "\n",
    "Price:\n",
    "$$\\text{Price}_t = \\text{BasePrice} \\cdot (1 + \\lambda \\cdot \\text{NormalizedDemand})$$\n",
    "\n",
    "- Normalize demand to [0,1]\n",
    "- Price bounded between 0.5x and 2x base price"
   ]
  },
  {
   "cell_type": "code",
   "execution_count": 11,
   "metadata": {},
   "outputs": [
    {
     "data": {
      "application/vnd.microsoft.datawrangler.viewer.v0+json": {
       "columns": [
        {
         "name": "index",
         "rawType": "int64",
         "type": "integer"
        },
        {
         "name": "Occupancy",
         "rawType": "int64",
         "type": "integer"
        },
        {
         "name": "QueueLength",
         "rawType": "int64",
         "type": "integer"
        },
        {
         "name": "Traffic",
         "rawType": "int64",
         "type": "integer"
        },
        {
         "name": "IsSpecialDay",
         "rawType": "int64",
         "type": "integer"
        },
        {
         "name": "VehicleType",
         "rawType": "object",
         "type": "string"
        },
        {
         "name": "Price",
         "rawType": "float64",
         "type": "float"
        }
       ],
       "ref": "c25eaa80-31d2-475c-8065-ca05d532ab54",
       "rows": [
        [
         "0",
         "61",
         "1",
         "0",
         "0",
         "car",
         "11.077596765510533"
        ],
        [
         "1",
         "64",
         "1",
         "0",
         "0",
         "car",
         "11.084904818445995"
        ],
        [
         "2",
         "80",
         "2",
         "0",
         "0",
         "car",
         "11.826672191395533"
        ],
        [
         "3",
         "107",
         "2",
         "0",
         "0",
         "car",
         "11.892444667814704"
        ],
        [
         "4",
         "150",
         "2",
         "0",
         "0",
         "bike",
         "11.744188633930603"
        ],
        [
         "5",
         "177",
         "3",
         "0",
         "0",
         "car",
         "12.765756993602581"
        ],
        [
         "6",
         "219",
         "6",
         "0",
         "0",
         "truck",
         "15.398117660956503"
        ],
        [
         "7",
         "247",
         "5",
         "0",
         "0",
         "car",
         "14.341860410017526"
        ],
        [
         "8",
         "259",
         "5",
         "0",
         "0",
         "cycle",
         "14.37109262175938"
        ],
        [
         "9",
         "266",
         "8",
         "0",
         "0",
         "bike",
         "16.24351322453091"
        ]
       ],
       "shape": {
        "columns": 6,
        "rows": 10
       }
      },
      "text/html": [
       "<div>\n",
       "<style scoped>\n",
       "    .dataframe tbody tr th:only-of-type {\n",
       "        vertical-align: middle;\n",
       "    }\n",
       "\n",
       "    .dataframe tbody tr th {\n",
       "        vertical-align: top;\n",
       "    }\n",
       "\n",
       "    .dataframe thead th {\n",
       "        text-align: right;\n",
       "    }\n",
       "</style>\n",
       "<table border=\"1\" class=\"dataframe\">\n",
       "  <thead>\n",
       "    <tr style=\"text-align: right;\">\n",
       "      <th></th>\n",
       "      <th>Occupancy</th>\n",
       "      <th>QueueLength</th>\n",
       "      <th>Traffic</th>\n",
       "      <th>IsSpecialDay</th>\n",
       "      <th>VehicleType</th>\n",
       "      <th>Price</th>\n",
       "    </tr>\n",
       "  </thead>\n",
       "  <tbody>\n",
       "    <tr>\n",
       "      <th>0</th>\n",
       "      <td>61</td>\n",
       "      <td>1</td>\n",
       "      <td>0</td>\n",
       "      <td>0</td>\n",
       "      <td>car</td>\n",
       "      <td>11.077597</td>\n",
       "    </tr>\n",
       "    <tr>\n",
       "      <th>1</th>\n",
       "      <td>64</td>\n",
       "      <td>1</td>\n",
       "      <td>0</td>\n",
       "      <td>0</td>\n",
       "      <td>car</td>\n",
       "      <td>11.084905</td>\n",
       "    </tr>\n",
       "    <tr>\n",
       "      <th>2</th>\n",
       "      <td>80</td>\n",
       "      <td>2</td>\n",
       "      <td>0</td>\n",
       "      <td>0</td>\n",
       "      <td>car</td>\n",
       "      <td>11.826672</td>\n",
       "    </tr>\n",
       "    <tr>\n",
       "      <th>3</th>\n",
       "      <td>107</td>\n",
       "      <td>2</td>\n",
       "      <td>0</td>\n",
       "      <td>0</td>\n",
       "      <td>car</td>\n",
       "      <td>11.892445</td>\n",
       "    </tr>\n",
       "    <tr>\n",
       "      <th>4</th>\n",
       "      <td>150</td>\n",
       "      <td>2</td>\n",
       "      <td>0</td>\n",
       "      <td>0</td>\n",
       "      <td>bike</td>\n",
       "      <td>11.744189</td>\n",
       "    </tr>\n",
       "    <tr>\n",
       "      <th>5</th>\n",
       "      <td>177</td>\n",
       "      <td>3</td>\n",
       "      <td>0</td>\n",
       "      <td>0</td>\n",
       "      <td>car</td>\n",
       "      <td>12.765757</td>\n",
       "    </tr>\n",
       "    <tr>\n",
       "      <th>6</th>\n",
       "      <td>219</td>\n",
       "      <td>6</td>\n",
       "      <td>0</td>\n",
       "      <td>0</td>\n",
       "      <td>truck</td>\n",
       "      <td>15.398118</td>\n",
       "    </tr>\n",
       "    <tr>\n",
       "      <th>7</th>\n",
       "      <td>247</td>\n",
       "      <td>5</td>\n",
       "      <td>0</td>\n",
       "      <td>0</td>\n",
       "      <td>car</td>\n",
       "      <td>14.341860</td>\n",
       "    </tr>\n",
       "    <tr>\n",
       "      <th>8</th>\n",
       "      <td>259</td>\n",
       "      <td>5</td>\n",
       "      <td>0</td>\n",
       "      <td>0</td>\n",
       "      <td>cycle</td>\n",
       "      <td>14.371093</td>\n",
       "    </tr>\n",
       "    <tr>\n",
       "      <th>9</th>\n",
       "      <td>266</td>\n",
       "      <td>8</td>\n",
       "      <td>0</td>\n",
       "      <td>0</td>\n",
       "      <td>bike</td>\n",
       "      <td>16.243513</td>\n",
       "    </tr>\n",
       "  </tbody>\n",
       "</table>\n",
       "</div>"
      ],
      "text/plain": [
       "   Occupancy  QueueLength  Traffic  IsSpecialDay VehicleType      Price\n",
       "0         61            1        0             0         car  11.077597\n",
       "1         64            1        0             0         car  11.084905\n",
       "2         80            2        0             0         car  11.826672\n",
       "3        107            2        0             0         car  11.892445\n",
       "4        150            2        0             0        bike  11.744189\n",
       "5        177            3        0             0         car  12.765757\n",
       "6        219            6        0             0       truck  15.398118\n",
       "7        247            5        0             0         car  14.341860\n",
       "8        259            5        0             0       cycle  14.371093\n",
       "9        266            8        0             0        bike  16.243513"
      ]
     },
     "execution_count": 11,
     "metadata": {},
     "output_type": "execute_result"
    }
   ],
   "source": [
    "# Assign weights for vehicle types\n",
    "vehicle_weights = {'car': 1.0, 'bike': 0.7, 'truck': 1.5}\n",
    "\n",
    "def demand_based_model(df, alpha=1, beta=0.5, gamma=0.3, delta=0.8, epsilon=0.6, lambd=1.0, base_price=10):\n",
    "    df = df.copy()\n",
    "    df['VehicleTypeWeight'] = df['VehicleType'].map(vehicle_weights)\n",
    "    df['VehicleTypeWeight'] = df['VehicleTypeWeight'].fillna(1.0)\n",
    "    # Ensure all required columns exist\n",
    "    for col in ['QueueLength', 'Traffic', 'IsSpecialDay', 'VehicleType']:\n",
    "        if col not in df.columns:\n",
    "            df[col] = 0\n",
    "    # Calculate raw demand\n",
    "    df['DemandRaw'] = (\n",
    "        alpha * (df['Occupancy'] / df['Capacity']) +\n",
    "        beta * df['QueueLength'] -\n",
    "        gamma * df['Traffic'] +\n",
    "        delta * df['IsSpecialDay'] +\n",
    "        epsilon * df['VehicleTypeWeight']\n",
    "    )\n",
    "    # Normalize demand\n",
    "    min_d, max_d = df['DemandRaw'].min(), df['DemandRaw'].max()\n",
    "    df['DemandNorm'] = (df['DemandRaw'] - min_d) / (max_d - min_d + 1e-6)\n",
    "    # Calculate price\n",
    "    df['Price'] = base_price * (1 + lambd * df['DemandNorm'])\n",
    "    df['Price'] = df['Price'].clip(lower=base_price*0.5, upper=base_price*2)\n",
    "    return df\n",
    "\n",
    "# Example: Apply to one parking lot\n",
    "lot_id = 0\n",
    "sample_lot = df[df['Latitude'] == locations.loc[lot_id, 'Latitude']]\n",
    "sample_lot = sample_lot.reset_index(drop=True)\n",
    "# Ensure all required columns exist in sample_lot as well\n",
    "for col in ['QueueLength', 'Traffic', 'IsSpecialDay', 'VehicleType']:\n",
    "    if col not in sample_lot.columns:\n",
    "        sample_lot[col] = 0\n",
    "\n",
    "demand_prices = demand_based_model(sample_lot)\n",
    "demand_prices[['Occupancy', 'QueueLength', 'Traffic', 'IsSpecialDay', 'VehicleType', 'Price']].head(10)\n"
   ]
  },
  {
   "cell_type": "markdown",
   "metadata": {},
   "source": [
    "## 4. Model 3 (Optional): Competitive Pricing Model\n",
    "- Calculate proximity using latitude and longitude\n",
    "- Adjust price based on competitor prices\n",
    "- Suggest rerouting if lot is full and nearby lots are cheaper"
   ]
  },
  {
   "cell_type": "code",
   "execution_count": 12,
   "metadata": {},
   "outputs": [
    {
     "data": {
      "text/plain": [
       "(   Occupancy      Price\n",
       " 0         61  11.077597\n",
       " 1         64  11.084905\n",
       " 2         80  11.826672\n",
       " 3        107  11.892445\n",
       " 4        150  11.744189\n",
       " 5        177  12.765757\n",
       " 6        219  15.398118\n",
       " 7        247  14.341860\n",
       " 8        259  14.371093\n",
       " 9        266  16.243513,\n",
       " [])"
      ]
     },
     "execution_count": 12,
     "metadata": {},
     "output_type": "execute_result"
    }
   ],
   "source": [
    "from math import radians, cos, sin, sqrt, atan2\n",
    "\n",
    "def haversine(lat1, lon1, lat2, lon2):\n",
    "    # Calculate distance between two lat/lon points (in km)\n",
    "    R = 6371\n",
    "    dlat = radians(lat2 - lat1)\n",
    "    dlon = radians(lon2 - lon1)\n",
    "    a = sin(dlat/2)**2 + cos(radians(lat1)) * cos(radians(lat2)) * sin(dlon/2)**2\n",
    "    c = 2 * atan2(sqrt(a), sqrt(1-a))\n",
    "    return R * c\n",
    "\n",
    "def competitive_pricing(df, all_df, base_price=10, radius_km=0.5):\n",
    "    df = df.copy()\n",
    "    df['CompPrice'] = base_price\n",
    "    reroute_suggestions = []\n",
    "    for idx, row in df.iterrows():\n",
    "        lat, lon = row['Latitude'], row['Longitude']\n",
    "        # Find nearby lots\n",
    "        competitors = all_df[(all_df['Latitude'] != lat)]\n",
    "        competitors = competitors[competitors.apply(lambda x: haversine(lat, lon, x['Latitude'], x['Longitude']) < radius_km, axis=1)]\n",
    "        if not competitors.empty:\n",
    "            avg_comp_price = competitors['Price'].mean()\n",
    "            # If lot is full and competitors are cheaper, suggest reroute\n",
    "            if row['Occupancy'] >= row['Capacity'] and avg_comp_price < row['Price']:\n",
    "                reroute_suggestions.append((idx, avg_comp_price))\n",
    "                df.at[idx, 'Price'] = max(base_price*0.5, avg_comp_price - 1)\n",
    "            # If competitors are expensive, increase price\n",
    "            elif avg_comp_price > row['Price']:\n",
    "                df.at[idx, 'Price'] = min(base_price*2, avg_comp_price + 1)\n",
    "    return df, reroute_suggestions\n",
    "\n",
    "# Apply competitive pricing to demand-based prices\n",
    "comp_prices, reroutes = competitive_pricing(demand_prices, demand_prices)\n",
    "comp_prices[['Occupancy', 'Price']].head(10), reroutes"
   ]
  },
  {
   "cell_type": "markdown",
   "metadata": {},
   "source": [
    "## 5. Conclusions\n",
    "- Three models implemented: baseline linear, demand-based, and competitive pricing\n",
    "- Prices update smoothly and are bounded\n",
    "- Optional rerouting logic included for overburdened lots\n",
    "- Further improvements: more advanced ML models, real-time deployment, user interface"
   ]
  }
 ],
 "metadata": {
  "kernelspec": {
   "display_name": "Python 3",
   "language": "python",
   "name": "python3"
  },
  "language_info": {
   "codemirror_mode": {
    "name": "ipython",
    "version": 3
   },
   "file_extension": ".py",
   "mimetype": "text/x-python",
   "name": "python",
   "nbconvert_exporter": "python",
   "pygments_lexer": "ipython3",
   "version": "3.12.4"
  }
 },
 "nbformat": 4,
 "nbformat_minor": 5
}
